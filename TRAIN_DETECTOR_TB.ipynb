{
 "cells": [
  {
   "cell_type": "markdown",
   "metadata": {},
   "source": [
    "***INGRESO LIBRERIAS NECESARIAS PARA EL ENTRENAMIENTO DEL MODELO***\n",
    "\n",
    "Para este proyecto se usara el clasificacor MobelNetV2 de Keras y tensorflow, se ajustara su arquitectura para que sea facilmente aplicable en dispositivos integrados.\n",
    "\n",
    "Se usa la libria sklearn para preprocesamiento de data(one hot encoding-binarizacion), segmentar el dataset e imprimir un informe de clasificación.\n",
    "\n",
    "La libreria imutils nos ayuda a encontrar y enumerar las imagenes del dataset para trabajar con ellas\n",
    "\n",
    "La libreria matplotlib para observar graficamente los resultados de la red "
   ]
  },
  {
   "cell_type": "code",
   "execution_count": 1,
   "metadata": {},
   "outputs": [],
   "source": [
    "from tensorflow.keras.preprocessing.image import ImageDataGenerator\n",
    "from tensorflow.keras.applications import MobileNetV2\n",
    "from tensorflow.keras.layers import AveragePooling2D\n",
    "from tensorflow.keras.layers import Dropout\n",
    "from tensorflow.keras.layers import Flatten\n",
    "from tensorflow.keras.layers import Dense\n",
    "from tensorflow.keras.layers import Input\n",
    "from tensorflow.keras.models import Model\n",
    "from tensorflow.keras.optimizers import Adam\n",
    "from tensorflow.keras.applications.mobilenet_v2 import preprocess_input\n",
    "from tensorflow.keras.preprocessing.image import img_to_array\n",
    "from tensorflow.keras.preprocessing.image import load_img\n",
    "from tensorflow.keras.utils import to_categorical\n",
    "from sklearn.preprocessing import LabelBinarizer\n",
    "from sklearn.model_selection import train_test_split\n",
    "from sklearn.metrics import classification_report\n",
    "from imutils import paths\n",
    "import matplotlib.pyplot as plt\n",
    "import numpy as np\n",
    "import argparse\n",
    "import os"
   ]
  },
  {
   "cell_type": "code",
   "execution_count": 2,
   "metadata": {},
   "outputs": [],
   "source": [
    "#Defino los hiperparametros de la red y la ruta del dataset\n",
    "INIT_LR=1e-4\n",
    "EPOCHS=25\n",
    "BS=32\n",
    "rut_dataset=r'dataset'"
   ]
  },
  {
   "cell_type": "markdown",
   "metadata": {},
   "source": [
    "***CARGAR IMAGENES Y PREPROCESAMIENTO***\n",
    "\n",
    "\n",
    "1. Se leen todas la imagenes del dataset y se convierten en arrays, guardando en data las imagenes y en labels los nombres(salida). Posteriormente se convierten en numpy arrays\n",
    "\n",
    "2. Como los labels son nuestra data de salida, y lo tenemos en formato str(word) le aplicamos one hot encoding para convertirlo en numeros."
   ]
  },
  {
   "cell_type": "code",
   "execution_count": 4,
   "metadata": {},
   "outputs": [],
   "source": [
    "#tomo la lista de imagenes de dataset \n",
    "imagePaths = list(paths.list_images(rut_dataset))\n",
    "data=[]\n",
    "labels=[]\n",
    "\n",
    "for imagePath in imagePaths:\n",
    "    # extraer el nombre de la imagen(with_mask, without_mask)->salida\n",
    "    label = imagePath.split(os.path.sep)[-2]\n",
    "\n",
    "    # cargar imagen, cambiar tamaño a (224x224) y realizar primer preprocesamiento\n",
    "    image = load_img(imagePath, target_size=(224, 224))\n",
    "    image = img_to_array(image)\n",
    "    image = preprocess_input(image)#scaling pixel intensitis to range[-1,1]\n",
    "\n",
    "    # actualizar lista de dato(imagen preprocesada)y lista de etiquetas\n",
    "    data.append(image) #guada las imagenes como array\n",
    "    labels.append(label)"
   ]
  },
  {
   "cell_type": "code",
   "execution_count": 9,
   "metadata": {},
   "outputs": [],
   "source": [
    "#convierto la data numpy array\n",
    "data = np.array(data, dtype=\"float32\")\n",
    "labels = np.array(labels)"
   ]
  },
  {
   "cell_type": "code",
   "execution_count": 12,
   "metadata": {},
   "outputs": [],
   "source": [
    "#aplico one hot encoding a labels\n",
    "lb = LabelBinarizer()\n",
    "labels = lb.fit_transform(labels)\n",
    "labels = to_categorical(labels)"
   ]
  },
  {
   "cell_type": "markdown",
   "metadata": {},
   "source": [
    "***ENTRENAMIENTO***\n",
    "\n",
    "    1. Dividimos la data en data_train y data_test usando la funcion de sklearn train_test_split, la dividimos en 80 -20\n",
    "    \n",
    "    2. Se aplicara una tecnica conocida como data augmentation la cual se usa para generar \"nuevas\" muestras de entrenamiento a partir de las originale, el objetivo es aumentar la generalizacion del modelo"
   ]
  },
  {
   "cell_type": "code",
   "execution_count": 14,
   "metadata": {},
   "outputs": [],
   "source": [
    "(trainX, testX, trainY, testY) = train_test_split(data, labels,test_size=0.20, stratify=labels, random_state=42)"
   ]
  },
  {
   "cell_type": "code",
   "execution_count": 20,
   "metadata": {},
   "outputs": [],
   "source": [
    "aug = ImageDataGenerator(\n",
    "    rotation_range=20,\n",
    "    zoom_range=0.15,\n",
    "    width_shift_range=0.2,\n",
    "    height_shift_range=0.2,\n",
    "    shear_range=0.15,\n",
    "    horizontal_flip=True,\n",
    "    fill_mode=\"nearest\")"
   ]
  },
  {
   "cell_type": "markdown",
   "metadata": {},
   "source": [
    "***Montando la red...***\n",
    "\n",
    "Primero le aplicamos una ajuste fino (fine_tuning):\n",
    "- Se carga MobileNet con los pesos pre-entrenados de ImageNet como modelo base.\n",
    "- Se construye un nuevo head_model añadida al modelo base previo \n",
    "- congelar las capas de base_model, no se actualizaran durante el proceso de retroalimentacion y los de la capa\n",
    "    principal se ajustaran (loop)\n",
    "\n",
    "El model se compilara con optimizador adam"
   ]
  },
  {
   "cell_type": "code",
   "execution_count": 21,
   "metadata": {},
   "outputs": [
    {
     "name": "stdout",
     "output_type": "stream",
     "text": [
      "WARNING:tensorflow:`input_shape` is undefined or non-square, or `rows` is not in [96, 128, 160, 192, 224]. Weights for input shape (224, 224) will be loaded as the default.\n",
      "Downloading data from https://storage.googleapis.com/tensorflow/keras-applications/mobilenet_v2/mobilenet_v2_weights_tf_dim_ordering_tf_kernels_1.0_224_no_top.h5\n",
      "9412608/9406464 [==============================] - 50s 5us/step\n"
     ]
    }
   ],
   "source": [
    "#Modelo base, con pesos pre-entrenados de imageNet\n",
    "baseModel= MobileNetV2(weights=\"imagenet\", include_top=False,\n",
    "    input_tensor=Input(shape=(224, 224, 3)))"
   ]
  },
  {
   "cell_type": "code",
   "execution_count": 22,
   "metadata": {},
   "outputs": [],
   "source": [
    "# construccion del head_Model el cual se añadira al base_Model\n",
    "headModel = baseModel.output\n",
    "headModel = AveragePooling2D(pool_size=(7, 7))(headModel)\n",
    "headModel = Flatten(name=\"flatten\")(headModel)\n",
    "headModel = Dense(128, activation=\"relu\")(headModel)\n",
    "headModel = Dropout(0.5)(headModel)\n",
    "headModel = Dense(2, activation=\"softmax\")(headModel)"
   ]
  },
  {
   "cell_type": "code",
   "execution_count": 23,
   "metadata": {},
   "outputs": [],
   "source": [
    "#Colacando el head_model sobre el base_model, sera el modelo que entrenemos\n",
    "model = Model(inputs=baseModel.input, outputs=headModel)\n",
    "\n",
    "#loop que congelara todas las capas del base_model\n",
    "for layer in baseModel.layers:\n",
    "    layer.trainable = False"
   ]
  },
  {
   "cell_type": "code",
   "execution_count": 24,
   "metadata": {},
   "outputs": [],
   "source": [
    "# compile model\n",
    "opt = Adam(lr=INIT_LR, decay=INIT_LR / EPOCHS)\n",
    "model.compile(loss=\"binary_crossentropy\", optimizer=opt,\n",
    "    metrics=[\"accuracy\"])"
   ]
  },
  {
   "cell_type": "code",
   "execution_count": 25,
   "metadata": {
    "scrolled": true
   },
   "outputs": [
    {
     "name": "stdout",
     "output_type": "stream",
     "text": [
      "[INFO] training head...\n",
      "Epoch 1/25\n",
      "34/34 [==============================] - 59s 2s/step - loss: 0.4055 - accuracy: 0.8015 - val_loss: 0.1157 - val_accuracy: 0.9891\n",
      "Epoch 2/25\n",
      "34/34 [==============================] - 67s 2s/step - loss: 0.1255 - accuracy: 0.9672 - val_loss: 0.0514 - val_accuracy: 1.0000\n",
      "Epoch 3/25\n",
      "34/34 [==============================] - 67s 2s/step - loss: 0.0705 - accuracy: 0.9803 - val_loss: 0.0321 - val_accuracy: 0.9964\n",
      "Epoch 4/25\n",
      "34/34 [==============================] - 62s 2s/step - loss: 0.0455 - accuracy: 0.9906 - val_loss: 0.0242 - val_accuracy: 0.9964\n",
      "Epoch 5/25\n",
      "34/34 [==============================] - 62s 2s/step - loss: 0.0478 - accuracy: 0.9860 - val_loss: 0.0205 - val_accuracy: 1.0000\n",
      "Epoch 6/25\n",
      "34/34 [==============================] - 61s 2s/step - loss: 0.0444 - accuracy: 0.9897 - val_loss: 0.0173 - val_accuracy: 1.0000\n",
      "Epoch 7/25\n",
      "34/34 [==============================] - 66s 2s/step - loss: 0.0311 - accuracy: 0.9944 - val_loss: 0.0145 - val_accuracy: 1.0000\n",
      "Epoch 8/25\n",
      "34/34 [==============================] - 63s 2s/step - loss: 0.0300 - accuracy: 0.9916 - val_loss: 0.0130 - val_accuracy: 1.0000\n",
      "Epoch 9/25\n",
      "34/34 [==============================] - 63s 2s/step - loss: 0.0139 - accuracy: 0.9972 - val_loss: 0.0113 - val_accuracy: 1.0000\n",
      "Epoch 10/25\n",
      "34/34 [==============================] - 62s 2s/step - loss: 0.0237 - accuracy: 0.9934 - val_loss: 0.0116 - val_accuracy: 1.0000\n",
      "Epoch 11/25\n",
      "34/34 [==============================] - 63s 2s/step - loss: 0.0153 - accuracy: 0.9953 - val_loss: 0.0102 - val_accuracy: 1.0000\n",
      "Epoch 12/25\n",
      "34/34 [==============================] - 64s 2s/step - loss: 0.0210 - accuracy: 0.9906 - val_loss: 0.0104 - val_accuracy: 1.0000\n",
      "Epoch 13/25\n",
      "34/34 [==============================] - 58s 2s/step - loss: 0.0141 - accuracy: 0.9972 - val_loss: 0.0103 - val_accuracy: 1.0000\n",
      "Epoch 14/25\n",
      "34/34 [==============================] - 65s 2s/step - loss: 0.0132 - accuracy: 0.9972 - val_loss: 0.0083 - val_accuracy: 1.0000\n",
      "Epoch 15/25\n",
      "34/34 [==============================] - 65s 2s/step - loss: 0.0106 - accuracy: 0.9972 - val_loss: 0.0075 - val_accuracy: 1.0000\n",
      "Epoch 16/25\n",
      "34/34 [==============================] - 64s 2s/step - loss: 0.0158 - accuracy: 0.9944 - val_loss: 0.0078 - val_accuracy: 1.0000\n",
      "Epoch 17/25\n",
      "34/34 [==============================] - 63s 2s/step - loss: 0.0133 - accuracy: 0.9953 - val_loss: 0.0076 - val_accuracy: 0.9964\n",
      "Epoch 18/25\n",
      "34/34 [==============================] - 60s 2s/step - loss: 0.0117 - accuracy: 0.9953 - val_loss: 0.0093 - val_accuracy: 1.0000\n",
      "Epoch 19/25\n",
      "34/34 [==============================] - 64s 2s/step - loss: 0.0117 - accuracy: 0.9944 - val_loss: 0.0071 - val_accuracy: 0.9964\n",
      "Epoch 20/25\n",
      "34/34 [==============================] - 67s 2s/step - loss: 0.0139 - accuracy: 0.9963 - val_loss: 0.0068 - val_accuracy: 1.0000\n",
      "Epoch 21/25\n",
      "34/34 [==============================] - 63s 2s/step - loss: 0.0087 - accuracy: 0.9981 - val_loss: 0.0072 - val_accuracy: 1.0000\n",
      "Epoch 22/25\n",
      "34/34 [==============================] - 63s 2s/step - loss: 0.0109 - accuracy: 0.9963 - val_loss: 0.0101 - val_accuracy: 1.0000\n",
      "Epoch 23/25\n",
      "34/34 [==============================] - 63s 2s/step - loss: 0.0092 - accuracy: 0.9972 - val_loss: 0.0062 - val_accuracy: 1.0000\n",
      "Epoch 24/25\n",
      "34/34 [==============================] - 67s 2s/step - loss: 0.0044 - accuracy: 1.0000 - val_loss: 0.0060 - val_accuracy: 1.0000\n",
      "Epoch 25/25\n",
      "34/34 [==============================] - 67s 2s/step - loss: 0.0091 - accuracy: 0.9972 - val_loss: 0.0069 - val_accuracy: 1.0000\n"
     ]
    }
   ],
   "source": [
    "#entrenamiento de la red \n",
    "print(\"[INFO] training head...\")\n",
    "H = model.fit(\n",
    "    aug.flow(trainX, trainY, batch_size=BS),\n",
    "    steps_per_epoch=len(trainX) // BS,\n",
    "    validation_data=(testX, testY),\n",
    "    validation_steps=len(testX) // BS,\n",
    "    epochs=EPOCHS)"
   ]
  },
  {
   "cell_type": "code",
   "execution_count": 26,
   "metadata": {},
   "outputs": [
    {
     "name": "stdout",
     "output_type": "stream",
     "text": [
      "              precision    recall  f1-score   support\n",
      "\n",
      "   with_mask       1.00      1.00      1.00       138\n",
      "without_mask       1.00      1.00      1.00       138\n",
      "\n",
      "    accuracy                           1.00       276\n",
      "   macro avg       1.00      1.00      1.00       276\n",
      "weighted avg       1.00      1.00      1.00       276\n",
      "\n"
     ]
    }
   ],
   "source": [
    "# predicciones del modelo con test data\n",
    "prediccion = model.predict(testX, batch_size=BS)\n",
    "prediccion = np.argmax(prediccion, axis=1) #probabilidad \n",
    "\n",
    "#muestra prediccion en mejor formato\n",
    "print(classification_report(testY.argmax(axis=1), prediccion,\n",
    "    target_names=lb.classes_))"
   ]
  },
  {
   "cell_type": "code",
   "execution_count": 29,
   "metadata": {},
   "outputs": [],
   "source": [
    "model.save('model_detector2.model', save_format=\"h5\")"
   ]
  },
  {
   "cell_type": "code",
   "execution_count": 28,
   "metadata": {},
   "outputs": [
    {
     "data": {
      "text/plain": [
       "<matplotlib.legend.Legend at 0x1b0b8e8b1f0>"
      ]
     },
     "execution_count": 28,
     "metadata": {},
     "output_type": "execute_result"
    },
    {
     "data": {
      "image/png": "[encoded data removed]",
      "text/plain": [
       "<Figure size 432x288 with 1 Axes>"
      ]
     },
     "metadata": {},
     "output_type": "display_data"
    }
   ],
   "source": [
    "N = EPOCHS\n",
    "plt.style.use(\"ggplot\")\n",
    "plt.figure()\n",
    "plt.plot(np.arange(0, N), H.history[\"loss\"], label=\"train_loss\")\n",
    "plt.plot(np.arange(0, N), H.history[\"val_loss\"], label=\"val_loss\")\n",
    "plt.plot(np.arange(0, N), H.history[\"accuracy\"], label=\"train_acc\")\n",
    "plt.plot(np.arange(0, N), H.history[\"val_accuracy\"], label=\"val_acc\")\n",
    "plt.title(\"Training Loss and Accuracy\")\n",
    "plt.xlabel(\"Epoch #\")\n",
    "plt.ylabel(\"Loss/Accuracy\")\n",
    "plt.legend(loc=\"lower left\")\n",
    "#plt.savefig(args[\"plot\"])"
   ]
  },
  {
   "cell_type": "code",
   "execution_count": null,
   "metadata": {},
   "outputs": [],
   "source": []
  }
 ],
 "metadata": {
  "kernelspec": {
   "display_name": "Python 3",
   "language": "python",
   "name": "python3"
  },
  "language_info": {
   "codemirror_mode": {
    "name": "ipython",
    "version": 3
   },
   "file_extension": ".py",
   "mimetype": "text/x-python",
   "name": "python",
   "nbconvert_exporter": "python",
   "pygments_lexer": "ipython3",
   "version": "3.8.2"
  }
 },
 "nbformat": 4,
 "nbformat_minor": 4
}
